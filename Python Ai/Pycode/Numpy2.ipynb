{
 "cells": [
  {
   "cell_type": "markdown",
   "id": "ee7e06e1",
   "metadata": {},
   "source": [
    "Here are some important NumPy questions that are commonly asked in interviews or exams:\n",
    "\n",
    "### 1. What is NumPy?  \n",
    "NumPy is a Python library used for numerical computations. It provides support for arrays, matrices, and many mathematical functions.\n",
    "\n",
    "### 2. How do you create a NumPy array?\n",
    "```python\n",
    "import numpy as np\n",
    "arr = np.array([1, 2, 3])\n",
    "```\n",
    "\n",
    "### 3. What is the difference between a Python list and a NumPy array?\n",
    "- NumPy arrays are more efficient for numerical operations.\n",
    "- They support vectorized operations, unlike lists.\n",
    "\n",
    "### 4. How do you create arrays of zeros, ones, or a range of numbers?\n",
    "```python\n",
    "np.zeros((2, 3))\n",
    "np.ones((3, 3))\n",
    "np.arange(0, 10, 2)\n",
    "```\n",
    "\n",
    "### 5. How do you reshape a NumPy array?\n",
    "```python\n",
    "arr = np.arange(6)\n",
    "arr = arr.reshape((2, 3))\n",
    "```\n",
    "\n",
    "### 6. How do you perform element-wise operations?\n",
    "```python\n",
    "a = np.array([1, 2, 3])\n",
    "b = np.array([4, 5, 6])\n",
    "c = a + b  # [5, 7, 9]\n",
    "```\n",
    "\n",
    "### 7. How do you find the maximum, minimum, and mean of an array?\n",
    "```python\n",
    "arr.max()\n",
    "arr.min()\n",
    "arr.mean()\n",
    "```\n",
    "\n",
    "### 8. How do you slice and index NumPy arrays?\n",
    "```python\n",
    "arr = np.array([1, 2, 3, 4])\n",
    "arr[1:3]  # [2, 3]\n",
    "```\n",
    "\n",
    "### 9. What is broadcasting in NumPy?\n",
    "Broadcasting allows NumPy to perform operations on arrays of different shapes.\n",
    "\n",
    "### 10. How do you handle missing values in NumPy?\n",
    "Use `np.nan` for missing values and functions like `np.isnan()` to detect them.\n",
    "\n",
    "---\n",
    "\n",
    "Let me know if you want code examples or explanations for any specific question!"
   ]
  },
  {
   "cell_type": "markdown",
   "id": "e6a7b667",
   "metadata": {},
   "source": []
  }
 ],
 "metadata": {
  "kernelspec": {
   "display_name": "Python 3",
   "language": "python",
   "name": "python3"
  },
  "language_info": {
   "codemirror_mode": {
    "name": "ipython",
    "version": 3
   },
   "file_extension": ".py",
   "mimetype": "text/x-python",
   "name": "python",
   "nbconvert_exporter": "python",
   "pygments_lexer": "ipython3",
   "version": "3.13.2"
  }
 },
 "nbformat": 4,
 "nbformat_minor": 5
}
