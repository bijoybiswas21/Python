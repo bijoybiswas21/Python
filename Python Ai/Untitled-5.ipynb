{
 "cells": [
  {
   "cell_type": "markdown",
   "id": "f0017c55",
   "metadata": {},
   "source": [
    "# Import Required Libraries\n",
    "Import the necessary libraries, including Matplotlib and NumPy."
   ]
  },
  {
   "cell_type": "code",
   "execution_count": null,
   "id": "54e1f675",
   "metadata": {},
   "outputs": [],
   "source": [
    "# Import Required Libraries\n",
    "import matplotlib.pyplot as plt\n",
    "import numpy as np"
   ]
  },
  {
   "cell_type": "markdown",
   "id": "ff1e4e6d",
   "metadata": {},
   "source": [
    "# Create Sample Data\n",
    "Generate random data for the x and y axes using NumPy."
   ]
  },
  {
   "cell_type": "code",
   "execution_count": null,
   "id": "28814a2c",
   "metadata": {},
   "outputs": [],
   "source": [
    "# Create Sample Data\n",
    "np.random.seed(42)  # For reproducibility\n",
    "x = np.random.randn(1000)\n",
    "y = np.random.randn(1000)"
   ]
  },
  {
   "cell_type": "markdown",
   "id": "9dc1a79e",
   "metadata": {},
   "source": [
    "# Generate Hexbin Plot\n",
    "Use Matplotlib's hexbin() function to create a Hexbin Plot with the generated data."
   ]
  },
  {
   "cell_type": "code",
   "execution_count": null,
   "id": "5d494867",
   "metadata": {},
   "outputs": [],
   "source": [
    "# Generate Hexbin Plot\n",
    "plt.hexbin(x, y, gridsize=30, cmap='Blues')"
   ]
  },
  {
   "cell_type": "markdown",
   "id": "8f94b15f",
   "metadata": {},
   "source": [
    "# Customize Hexbin Plot\n",
    "Add labels, a color bar, and a title to the Hexbin Plot for better visualization."
   ]
  },
  {
   "cell_type": "code",
   "execution_count": null,
   "id": "5144ff73",
   "metadata": {},
   "outputs": [],
   "source": [
    "# Customize Hexbin Plot\n",
    "plt.colorbar(label='Frequency')\n",
    "plt.xlabel('X-axis')\n",
    "plt.ylabel('Y-axis')\n",
    "plt.title('Hexbin Plot Example')\n",
    "plt.show()"
   ]
  }
 ],
 "metadata": {
  "language_info": {
   "name": "python"
  }
 },
 "nbformat": 4,
 "nbformat_minor": 5
}
