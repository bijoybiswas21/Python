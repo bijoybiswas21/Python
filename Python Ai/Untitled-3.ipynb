{
 "cells": [
  {
   "cell_type": "code",
   "execution_count": null,
   "id": "6784a9c9",
   "metadata": {},
   "outputs": [],
   "source": [
    "# Import Required Libraries\n",
    "import pandas as pd"
   ]
  },
  {
   "cell_type": "code",
   "execution_count": 1,
   "id": "08acabba",
   "metadata": {},
   "outputs": [
    {
     "ename": "NameError",
     "evalue": "name 'pd' is not defined",
     "output_type": "error",
     "traceback": [
      "\u001b[31m---------------------------------------------------------------------------\u001b[39m",
      "\u001b[31mNameError\u001b[39m                                 Traceback (most recent call last)",
      "\u001b[36mCell\u001b[39m\u001b[36m \u001b[39m\u001b[32mIn[1]\u001b[39m\u001b[32m, line 3\u001b[39m\n\u001b[32m      1\u001b[39m \u001b[38;5;66;03m# Create Sample DataFrames\u001b[39;00m\n\u001b[32m      2\u001b[39m \u001b[38;5;66;03m# Define two sample DataFrames with overlapping and non-overlapping indices and columns\u001b[39;00m\n\u001b[32m----> \u001b[39m\u001b[32m3\u001b[39m df1 = \u001b[43mpd\u001b[49m.DataFrame({\n\u001b[32m      4\u001b[39m     \u001b[33m'\u001b[39m\u001b[33mA\u001b[39m\u001b[33m'\u001b[39m: [\u001b[32m1\u001b[39m, \u001b[32m2\u001b[39m, \u001b[32m3\u001b[39m],\n\u001b[32m      5\u001b[39m     \u001b[33m'\u001b[39m\u001b[33mB\u001b[39m\u001b[33m'\u001b[39m: [\u001b[32m4\u001b[39m, \u001b[32m5\u001b[39m, \u001b[32m6\u001b[39m]\n\u001b[32m      6\u001b[39m }, index=[\u001b[33m'\u001b[39m\u001b[33mrow1\u001b[39m\u001b[33m'\u001b[39m, \u001b[33m'\u001b[39m\u001b[33mrow2\u001b[39m\u001b[33m'\u001b[39m, \u001b[33m'\u001b[39m\u001b[33mrow3\u001b[39m\u001b[33m'\u001b[39m])\n\u001b[32m      8\u001b[39m df2 = pd.DataFrame({\n\u001b[32m      9\u001b[39m     \u001b[33m'\u001b[39m\u001b[33mA\u001b[39m\u001b[33m'\u001b[39m: [\u001b[32m7\u001b[39m, \u001b[32m8\u001b[39m],\n\u001b[32m     10\u001b[39m     \u001b[33m'\u001b[39m\u001b[33mC\u001b[39m\u001b[33m'\u001b[39m: [\u001b[32m9\u001b[39m, \u001b[32m10\u001b[39m]\n\u001b[32m     11\u001b[39m }, index=[\u001b[33m'\u001b[39m\u001b[33mrow1\u001b[39m\u001b[33m'\u001b[39m, \u001b[33m'\u001b[39m\u001b[33mrow4\u001b[39m\u001b[33m'\u001b[39m])\n",
      "\u001b[31mNameError\u001b[39m: name 'pd' is not defined"
     ]
    }
   ],
   "source": [
    "# Create Sample DataFrames\n",
    "# Define two sample DataFrames with overlapping and non-overlapping indices and columns\n",
    "df1 = pd.DataFrame({\n",
    "    'A': [1, 2, 3],\n",
    "    'B': [4, 5, 6]\n",
    "}, index=['row1', 'row2', 'row3'])\n",
    "\n",
    "df2 = pd.DataFrame({\n",
    "    'A': [7, 8],\n",
    "    'C': [9, 10]\n",
    "}, index=['row1', 'row4'])"
   ]
  },
  {
   "cell_type": "code",
   "execution_count": null,
   "id": "50d67eb3",
   "metadata": {},
   "outputs": [],
   "source": [
    "# Add Two DataFrames\n",
    "# Perform addition of the two DataFrames using the '+' operator\n",
    "result_add = df1 + df2\n",
    "\n",
    "# Alternatively, use the add() method\n",
    "result_add_method = df1.add(df2)"
   ]
  },
  {
   "cell_type": "code",
   "execution_count": null,
   "id": "02bd98f1",
   "metadata": {},
   "outputs": [],
   "source": [
    "# Handle Missing Values During Addition\n",
    "# Demonstrate how to handle missing values using the fill_value parameter in the add() method\n",
    "result_with_fill = df1.add(df2, fill_value=0)\n",
    "\n",
    "# Display the results\n",
    "print(\"Addition using '+' operator:\\n\", result_add)\n",
    "print(\"\\nAddition using add() method:\\n\", result_add_method)\n",
    "print(\"\\nAddition with fill_value=0:\\n\", result_with_fill)"
   ]
  }
 ],
 "metadata": {
  "kernelspec": {
   "display_name": "Python 3",
   "language": "python",
   "name": "python3"
  },
  "language_info": {
   "codemirror_mode": {
    "name": "ipython",
    "version": 3
   },
   "file_extension": ".py",
   "mimetype": "text/x-python",
   "name": "python",
   "nbconvert_exporter": "python",
   "pygments_lexer": "ipython3",
   "version": "3.13.2"
  }
 },
 "nbformat": 4,
 "nbformat_minor": 5
}
