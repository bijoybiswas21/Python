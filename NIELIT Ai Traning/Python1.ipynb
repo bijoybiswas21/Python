{
 "cells": [
  {
   "cell_type": "markdown",
   "id": "00e657ca",
   "metadata": {},
   "source": [
    "Python Programming"
   ]
  }
 ],
 "metadata": {
  "language_info": {
   "name": "python"
  }
 },
 "nbformat": 4,
 "nbformat_minor": 5
}
